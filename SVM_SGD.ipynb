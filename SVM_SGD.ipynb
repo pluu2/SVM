{
  "nbformat": 4,
  "nbformat_minor": 0,
  "metadata": {
    "colab": {
      "name": "SVM_SGD.ipynb",
      "provenance": [],
      "authorship_tag": "ABX9TyM04m3turxF7ffRwplBB9Jv"
    },
    "kernelspec": {
      "name": "python3",
      "display_name": "Python 3"
    }
  },
  "cells": [
    {
      "cell_type": "code",
      "metadata": {
        "id": "lq13hWH7zxAD",
        "colab_type": "code",
        "colab": {}
      },
      "source": [
        "import numpy as np \n",
        "import matplotlib.pyplot as py"
      ],
      "execution_count": 0,
      "outputs": []
    },
    {
      "cell_type": "code",
      "metadata": {
        "id": "xmggxS0cz0Q5",
        "colab_type": "code",
        "colab": {}
      },
      "source": [
        "class svm(): \n",
        "  def __init__(self): \n",
        "    self.w=[] \n",
        "    self.b=[]\n",
        "    starting_w=0 \n",
        "    starting_b=0\n",
        "    self.w=[starting_w,starting_w]\n",
        "    self.b=starting_b\n",
        "    self.C = 1.0\n",
        "  def fit (self,data,labels): \n",
        "    data_temp= np.array(data) \n",
        "    data_temp=np.ndarray.flatten(data_temp) \n",
        "    for i in range (len(labels)): \n",
        "      #iterate \n",
        "      if (1-(labels[i]*(np.dot(self.w,data[i])+self.b ))) >=0: \n",
        "        w_grad = -1*(np.transpose(self.w) - (labels[i]*self.C)*np.transpose(data[i]) )\n",
        "        b_grad = - self.C*labels[i]\n",
        "      else: \n",
        "        w_grad=-1*(np.transpose(self.w))\n",
        "        b_grad=0\n",
        "      self.w=self.w+0.001*w_grad \n",
        "      self.b = self.b+0.001*b_grad\n",
        "      self.width = np.linalg.norm(self.w)\n",
        "      #print (self.w)\n",
        "  def predict(self,data): \n",
        "    return (np.sign(np.dot(self.w,data)-self.b))"
      ],
      "execution_count": 0,
      "outputs": []
    }
  ]
}